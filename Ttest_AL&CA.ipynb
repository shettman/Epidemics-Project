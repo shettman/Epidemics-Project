{
 "cells": [
  {
   "cell_type": "code",
   "execution_count": 1,
   "metadata": {},
   "outputs": [],
   "source": [
    "%matplotlib inline"
   ]
  },
  {
   "cell_type": "code",
   "execution_count": 2,
   "metadata": {},
   "outputs": [],
   "source": [
    "import warnings\n",
    "warnings.filterwarnings('ignore')"
   ]
  },
  {
   "cell_type": "code",
   "execution_count": 3,
   "metadata": {},
   "outputs": [],
   "source": [
    "# Dependencies\n",
    "import pandas as pd\n",
    "import numpy as np\n",
    "import matplotlib.pyplot as plt\n",
    "import scipy.stats as stats"
   ]
  },
  {
   "cell_type": "code",
   "execution_count": 4,
   "metadata": {},
   "outputs": [],
   "source": [
    "# Store filepath in a variable\n",
    "file4_df = \"resources_update/measles.csv\"\n"
   ]
  },
  {
   "cell_type": "code",
   "execution_count": 5,
   "metadata": {},
   "outputs": [],
   "source": [
    "# Read our Data file with the pandas library\n",
    "file1_df = pd.read_csv(file4_df, encoding=\"ISO-8859-1\")\n"
   ]
  },
  {
   "cell_type": "code",
   "execution_count": 6,
   "metadata": {
    "scrolled": false
   },
   "outputs": [
    {
     "data": {
      "text/html": [
       "<div>\n",
       "<style scoped>\n",
       "    .dataframe tbody tr th:only-of-type {\n",
       "        vertical-align: middle;\n",
       "    }\n",
       "\n",
       "    .dataframe tbody tr th {\n",
       "        vertical-align: top;\n",
       "    }\n",
       "\n",
       "    .dataframe thead th {\n",
       "        text-align: right;\n",
       "    }\n",
       "</style>\n",
       "<table border=\"1\" class=\"dataframe\">\n",
       "  <thead>\n",
       "    <tr style=\"text-align: right;\">\n",
       "      <th></th>\n",
       "      <th>Unnamed: 0</th>\n",
       "      <th>state</th>\n",
       "      <th>State Name</th>\n",
       "      <th>disease</th>\n",
       "      <th>Number of Measles Cases</th>\n",
       "      <th>Measles Incidence Per 100,000 People</th>\n",
       "      <th>year</th>\n",
       "      <th>number_week</th>\n",
       "    </tr>\n",
       "  </thead>\n",
       "  <tbody>\n",
       "    <tr>\n",
       "      <th>0</th>\n",
       "      <td>0</td>\n",
       "      <td>AL</td>\n",
       "      <td>ALABAMA</td>\n",
       "      <td>MEASLES</td>\n",
       "      <td>97</td>\n",
       "      <td>3.67</td>\n",
       "      <td>1928</td>\n",
       "      <td>1</td>\n",
       "    </tr>\n",
       "    <tr>\n",
       "      <th>1</th>\n",
       "      <td>1</td>\n",
       "      <td>AR</td>\n",
       "      <td>ARKANSAS</td>\n",
       "      <td>MEASLES</td>\n",
       "      <td>76</td>\n",
       "      <td>4.11</td>\n",
       "      <td>1928</td>\n",
       "      <td>1</td>\n",
       "    </tr>\n",
       "    <tr>\n",
       "      <th>2</th>\n",
       "      <td>2</td>\n",
       "      <td>AZ</td>\n",
       "      <td>ARIZONA</td>\n",
       "      <td>MEASLES</td>\n",
       "      <td>8</td>\n",
       "      <td>1.90</td>\n",
       "      <td>1928</td>\n",
       "      <td>1</td>\n",
       "    </tr>\n",
       "    <tr>\n",
       "      <th>3</th>\n",
       "      <td>3</td>\n",
       "      <td>CA</td>\n",
       "      <td>CALIFORNIA</td>\n",
       "      <td>MEASLES</td>\n",
       "      <td>74</td>\n",
       "      <td>1.38</td>\n",
       "      <td>1928</td>\n",
       "      <td>1</td>\n",
       "    </tr>\n",
       "    <tr>\n",
       "      <th>4</th>\n",
       "      <td>4</td>\n",
       "      <td>CO</td>\n",
       "      <td>COLORADO</td>\n",
       "      <td>MEASLES</td>\n",
       "      <td>85</td>\n",
       "      <td>8.38</td>\n",
       "      <td>1928</td>\n",
       "      <td>1</td>\n",
       "    </tr>\n",
       "  </tbody>\n",
       "</table>\n",
       "</div>"
      ],
      "text/plain": [
       "   Unnamed: 0 state  State Name  disease  Number of Measles Cases  \\\n",
       "0           0    AL     ALABAMA  MEASLES                       97   \n",
       "1           1    AR    ARKANSAS  MEASLES                       76   \n",
       "2           2    AZ     ARIZONA  MEASLES                        8   \n",
       "3           3    CA  CALIFORNIA  MEASLES                       74   \n",
       "4           4    CO    COLORADO  MEASLES                       85   \n",
       "\n",
       "   Measles Incidence Per 100,000 People  year  number_week  \n",
       "0                                  3.67  1928            1  \n",
       "1                                  4.11  1928            1  \n",
       "2                                  1.90  1928            1  \n",
       "3                                  1.38  1928            1  \n",
       "4                                  8.38  1928            1  "
      ]
     },
     "execution_count": 6,
     "metadata": {},
     "output_type": "execute_result"
    }
   ],
   "source": [
    "# Show just the header\n",
    "file1_df.head()"
   ]
  },
  {
   "cell_type": "code",
   "execution_count": 7,
   "metadata": {
    "scrolled": true
   },
   "outputs": [
    {
     "data": {
      "text/html": [
       "<div>\n",
       "<style scoped>\n",
       "    .dataframe tbody tr th:only-of-type {\n",
       "        vertical-align: middle;\n",
       "    }\n",
       "\n",
       "    .dataframe tbody tr th {\n",
       "        vertical-align: top;\n",
       "    }\n",
       "\n",
       "    .dataframe thead th {\n",
       "        text-align: right;\n",
       "    }\n",
       "</style>\n",
       "<table border=\"1\" class=\"dataframe\">\n",
       "  <thead>\n",
       "    <tr style=\"text-align: right;\">\n",
       "      <th></th>\n",
       "      <th></th>\n",
       "      <th>Unnamed: 0</th>\n",
       "      <th>Number of Measles Cases</th>\n",
       "      <th>Measles Incidence Per 100,000 People</th>\n",
       "      <th>number_week</th>\n",
       "    </tr>\n",
       "    <tr>\n",
       "      <th>State Name</th>\n",
       "      <th>year</th>\n",
       "      <th></th>\n",
       "      <th></th>\n",
       "      <th></th>\n",
       "      <th></th>\n",
       "    </tr>\n",
       "  </thead>\n",
       "  <tbody>\n",
       "    <tr>\n",
       "      <th rowspan=\"5\" valign=\"top\">ALABAMA</th>\n",
       "      <th>1928</th>\n",
       "      <td>1082.115385</td>\n",
       "      <td>170.057692</td>\n",
       "      <td>6.442115</td>\n",
       "      <td>26.500000</td>\n",
       "    </tr>\n",
       "    <tr>\n",
       "      <th>1929</th>\n",
       "      <td>3207.571429</td>\n",
       "      <td>60.387755</td>\n",
       "      <td>2.284286</td>\n",
       "      <td>25.448980</td>\n",
       "    </tr>\n",
       "    <tr>\n",
       "      <th>1930</th>\n",
       "      <td>5442.980769</td>\n",
       "      <td>79.923077</td>\n",
       "      <td>3.019231</td>\n",
       "      <td>26.500000</td>\n",
       "    </tr>\n",
       "    <tr>\n",
       "      <th>1931</th>\n",
       "      <td>7590.346939</td>\n",
       "      <td>182.326531</td>\n",
       "      <td>6.883469</td>\n",
       "      <td>25.612245</td>\n",
       "    </tr>\n",
       "    <tr>\n",
       "      <th>1932</th>\n",
       "      <td>9726.414634</td>\n",
       "      <td>6.585366</td>\n",
       "      <td>0.249024</td>\n",
       "      <td>24.682927</td>\n",
       "    </tr>\n",
       "  </tbody>\n",
       "</table>\n",
       "</div>"
      ],
      "text/plain": [
       "                  Unnamed: 0  Number of Measles Cases  \\\n",
       "State Name year                                         \n",
       "ALABAMA    1928  1082.115385               170.057692   \n",
       "           1929  3207.571429                60.387755   \n",
       "           1930  5442.980769                79.923077   \n",
       "           1931  7590.346939               182.326531   \n",
       "           1932  9726.414634                 6.585366   \n",
       "\n",
       "                 Measles Incidence Per 100,000 People  number_week  \n",
       "State Name year                                                     \n",
       "ALABAMA    1928                              6.442115    26.500000  \n",
       "           1929                              2.284286    25.448980  \n",
       "           1930                              3.019231    26.500000  \n",
       "           1931                              6.883469    25.612245  \n",
       "           1932                              0.249024    24.682927  "
      ]
     },
     "execution_count": 7,
     "metadata": {},
     "output_type": "execute_result"
    }
   ],
   "source": [
    "file2_df = file1_df.groupby([\"State Name\", \"year\"])\n",
    "mean_grouped_measles_df = file2_df.mean()\n",
    "mean_grouped_measles_df.head()\n"
   ]
  },
  {
   "cell_type": "code",
   "execution_count": 8,
   "metadata": {
    "scrolled": true
   },
   "outputs": [
    {
     "data": {
      "text/html": [
       "<div>\n",
       "<style scoped>\n",
       "    .dataframe tbody tr th:only-of-type {\n",
       "        vertical-align: middle;\n",
       "    }\n",
       "\n",
       "    .dataframe tbody tr th {\n",
       "        vertical-align: top;\n",
       "    }\n",
       "\n",
       "    .dataframe thead th {\n",
       "        text-align: right;\n",
       "    }\n",
       "</style>\n",
       "<table border=\"1\" class=\"dataframe\">\n",
       "  <thead>\n",
       "    <tr style=\"text-align: right;\">\n",
       "      <th></th>\n",
       "      <th></th>\n",
       "      <th>Measles Incidence Per 100,000 People</th>\n",
       "    </tr>\n",
       "    <tr>\n",
       "      <th>State Name</th>\n",
       "      <th>year</th>\n",
       "      <th></th>\n",
       "    </tr>\n",
       "  </thead>\n",
       "  <tbody>\n",
       "    <tr>\n",
       "      <th rowspan=\"5\" valign=\"top\">ALABAMA</th>\n",
       "      <th>1928</th>\n",
       "      <td>6.442115</td>\n",
       "    </tr>\n",
       "    <tr>\n",
       "      <th>1929</th>\n",
       "      <td>2.284286</td>\n",
       "    </tr>\n",
       "    <tr>\n",
       "      <th>1930</th>\n",
       "      <td>3.019231</td>\n",
       "    </tr>\n",
       "    <tr>\n",
       "      <th>1931</th>\n",
       "      <td>6.883469</td>\n",
       "    </tr>\n",
       "    <tr>\n",
       "      <th>1932</th>\n",
       "      <td>0.249024</td>\n",
       "    </tr>\n",
       "  </tbody>\n",
       "</table>\n",
       "</div>"
      ],
      "text/plain": [
       "                 Measles Incidence Per 100,000 People\n",
       "State Name year                                      \n",
       "ALABAMA    1928                              6.442115\n",
       "           1929                              2.284286\n",
       "           1930                              3.019231\n",
       "           1931                              6.883469\n",
       "           1932                              0.249024"
      ]
     },
     "execution_count": 8,
     "metadata": {},
     "output_type": "execute_result"
    }
   ],
   "source": [
    "#Drop columns\n",
    "file3_df = mean_grouped_measles_df.drop(columns=['Unnamed: 0', 'Number of Measles Cases', 'number_week'])\n",
    "file3_df.head()"
   ]
  },
  {
   "cell_type": "code",
   "execution_count": 9,
   "metadata": {},
   "outputs": [
    {
     "data": {
      "text/plain": [
       "year\n",
       "1928    6.442115\n",
       "1929    2.284286\n",
       "1930    3.019231\n",
       "1931    6.883469\n",
       "1932    0.249024\n",
       "Name: Measles Incidence Per 100,000 People, dtype: float64"
      ]
     },
     "execution_count": 9,
     "metadata": {},
     "output_type": "execute_result"
    }
   ],
   "source": [
    "#Grab the data contained within the \"AL\" row and \"cases\" column\n",
    "ALdf = file3_df.loc[\"ALABAMA\", \"Measles Incidence Per 100,000 People\"]\n",
    "ALdf.head()"
   ]
  },
  {
   "cell_type": "code",
   "execution_count": 10,
   "metadata": {},
   "outputs": [
    {
     "data": {
      "text/plain": [
       "year\n",
       "1928     1.331154\n",
       "1929     1.400000\n",
       "1930    14.620000\n",
       "1931     9.182308\n",
       "1932     4.116923\n",
       "Name: Measles Incidence Per 100,000 People, dtype: float64"
      ]
     },
     "execution_count": 10,
     "metadata": {},
     "output_type": "execute_result"
    }
   ],
   "source": [
    "#Grab the data contained within the \"CA\" row and \"cases\" column\n",
    "CAdf = file3_df.loc[\"CALIFORNIA\", \"Measles Incidence Per 100,000 People\"]\n",
    "CAdf.head()"
   ]
  },
  {
   "cell_type": "code",
   "execution_count": 11,
   "metadata": {},
   "outputs": [
    {
     "data": {
      "text/plain": [
       "2.1647578052505208"
      ]
     },
     "execution_count": 11,
     "metadata": {},
     "output_type": "execute_result"
    }
   ],
   "source": [
    "# Calculate the mean of mean of mean number of cases of measles in AL\n",
    "ALdf.mean()\n"
   ]
  },
  {
   "cell_type": "code",
   "execution_count": 12,
   "metadata": {},
   "outputs": [
    {
     "data": {
      "text/plain": [
       "3.790922973160298"
      ]
     },
     "execution_count": 12,
     "metadata": {},
     "output_type": "execute_result"
    }
   ],
   "source": [
    "# Calculate the mean of mean of mean number of cases of measles in CA\n",
    "CAdf.mean()"
   ]
  },
  {
   "cell_type": "code",
   "execution_count": 13,
   "metadata": {},
   "outputs": [
    {
     "data": {
      "text/plain": [
       "Ttest_indResult(statistic=-2.378821925523624, pvalue=0.01897091425323584)"
      ]
     },
     "execution_count": 13,
     "metadata": {},
     "output_type": "execute_result"
    }
   ],
   "source": [
    "#Calculate Independent (Two Sample) T-Test\n",
    "stats.ttest_ind(ALdf, CAdf, equal_var=False)"
   ]
  },
  {
   "cell_type": "code",
   "execution_count": 14,
   "metadata": {
    "scrolled": true
   },
   "outputs": [
    {
     "data": {
      "text/html": [
       "<div>\n",
       "<style scoped>\n",
       "    .dataframe tbody tr th:only-of-type {\n",
       "        vertical-align: middle;\n",
       "    }\n",
       "\n",
       "    .dataframe tbody tr th {\n",
       "        vertical-align: top;\n",
       "    }\n",
       "\n",
       "    .dataframe thead th {\n",
       "        text-align: right;\n",
       "    }\n",
       "</style>\n",
       "<table border=\"1\" class=\"dataframe\">\n",
       "  <thead>\n",
       "    <tr style=\"text-align: right;\">\n",
       "      <th></th>\n",
       "      <th>Measles Incidence Per 100,000 People_x</th>\n",
       "      <th>Measles Incidence Per 100,000 People_y</th>\n",
       "    </tr>\n",
       "    <tr>\n",
       "      <th>year</th>\n",
       "      <th></th>\n",
       "      <th></th>\n",
       "    </tr>\n",
       "  </thead>\n",
       "  <tbody>\n",
       "    <tr>\n",
       "      <th>1928</th>\n",
       "      <td>6.442115</td>\n",
       "      <td>1.331154</td>\n",
       "    </tr>\n",
       "    <tr>\n",
       "      <th>1929</th>\n",
       "      <td>2.284286</td>\n",
       "      <td>1.400000</td>\n",
       "    </tr>\n",
       "    <tr>\n",
       "      <th>1930</th>\n",
       "      <td>3.019231</td>\n",
       "      <td>14.620000</td>\n",
       "    </tr>\n",
       "    <tr>\n",
       "      <th>1931</th>\n",
       "      <td>6.883469</td>\n",
       "      <td>9.182308</td>\n",
       "    </tr>\n",
       "    <tr>\n",
       "      <th>1932</th>\n",
       "      <td>0.249024</td>\n",
       "      <td>4.116923</td>\n",
       "    </tr>\n",
       "  </tbody>\n",
       "</table>\n",
       "</div>"
      ],
      "text/plain": [
       "      Measles Incidence Per 100,000 People_x  \\\n",
       "year                                           \n",
       "1928                                6.442115   \n",
       "1929                                2.284286   \n",
       "1930                                3.019231   \n",
       "1931                                6.883469   \n",
       "1932                                0.249024   \n",
       "\n",
       "      Measles Incidence Per 100,000 People_y  \n",
       "year                                          \n",
       "1928                                1.331154  \n",
       "1929                                1.400000  \n",
       "1930                               14.620000  \n",
       "1931                                9.182308  \n",
       "1932                                4.116923  "
      ]
     },
     "execution_count": 14,
     "metadata": {},
     "output_type": "execute_result"
    }
   ],
   "source": [
    "#inner join in python pandas\n",
    "state_df = pd.merge(ALdf, CAdf, on='year', how='inner')\n",
    "state_df.head()"
   ]
  },
  {
   "cell_type": "code",
   "execution_count": 25,
   "metadata": {},
   "outputs": [
    {
     "data": {
      "text/html": [
       "<div>\n",
       "<style scoped>\n",
       "    .dataframe tbody tr th:only-of-type {\n",
       "        vertical-align: middle;\n",
       "    }\n",
       "\n",
       "    .dataframe tbody tr th {\n",
       "        vertical-align: top;\n",
       "    }\n",
       "\n",
       "    .dataframe thead th {\n",
       "        text-align: right;\n",
       "    }\n",
       "</style>\n",
       "<table border=\"1\" class=\"dataframe\">\n",
       "  <thead>\n",
       "    <tr style=\"text-align: right;\">\n",
       "      <th></th>\n",
       "      <th>AL</th>\n",
       "      <th>CA</th>\n",
       "    </tr>\n",
       "    <tr>\n",
       "      <th>year</th>\n",
       "      <th></th>\n",
       "      <th></th>\n",
       "    </tr>\n",
       "  </thead>\n",
       "  <tbody>\n",
       "    <tr>\n",
       "      <th>1928</th>\n",
       "      <td>6.442115</td>\n",
       "      <td>1.331154</td>\n",
       "    </tr>\n",
       "    <tr>\n",
       "      <th>1929</th>\n",
       "      <td>2.284286</td>\n",
       "      <td>1.400000</td>\n",
       "    </tr>\n",
       "    <tr>\n",
       "      <th>1930</th>\n",
       "      <td>3.019231</td>\n",
       "      <td>14.620000</td>\n",
       "    </tr>\n",
       "    <tr>\n",
       "      <th>1931</th>\n",
       "      <td>6.883469</td>\n",
       "      <td>9.182308</td>\n",
       "    </tr>\n",
       "    <tr>\n",
       "      <th>1932</th>\n",
       "      <td>0.249024</td>\n",
       "      <td>4.116923</td>\n",
       "    </tr>\n",
       "  </tbody>\n",
       "</table>\n",
       "</div>"
      ],
      "text/plain": [
       "            AL         CA\n",
       "year                     \n",
       "1928  6.442115   1.331154\n",
       "1929  2.284286   1.400000\n",
       "1930  3.019231  14.620000\n",
       "1931  6.883469   9.182308\n",
       "1932  0.249024   4.116923"
      ]
     },
     "execution_count": 25,
     "metadata": {},
     "output_type": "execute_result"
    }
   ],
   "source": [
    "state_df.rename(columns={'Measles Incidence Per 100,000 People_x': 'AL', 'Measles Incidence Per 100,000 People_y': 'CA'})\n",
    "state_df.head()"
   ]
  },
  {
   "cell_type": "code",
   "execution_count": 27,
   "metadata": {
    "scrolled": true
   },
   "outputs": [
    {
     "data": {
      "text/html": [
       "<div>\n",
       "<style scoped>\n",
       "    .dataframe tbody tr th:only-of-type {\n",
       "        vertical-align: middle;\n",
       "    }\n",
       "\n",
       "    .dataframe tbody tr th {\n",
       "        vertical-align: top;\n",
       "    }\n",
       "\n",
       "    .dataframe thead th {\n",
       "        text-align: right;\n",
       "    }\n",
       "</style>\n",
       "<table border=\"1\" class=\"dataframe\">\n",
       "  <thead>\n",
       "    <tr style=\"text-align: right;\">\n",
       "      <th></th>\n",
       "      <th>year</th>\n",
       "      <th>AL</th>\n",
       "      <th>CA</th>\n",
       "    </tr>\n",
       "  </thead>\n",
       "  <tbody>\n",
       "    <tr>\n",
       "      <th>0</th>\n",
       "      <td>1928</td>\n",
       "      <td>6.442115</td>\n",
       "      <td>1.331154</td>\n",
       "    </tr>\n",
       "    <tr>\n",
       "      <th>1</th>\n",
       "      <td>1929</td>\n",
       "      <td>2.284286</td>\n",
       "      <td>1.400000</td>\n",
       "    </tr>\n",
       "    <tr>\n",
       "      <th>2</th>\n",
       "      <td>1930</td>\n",
       "      <td>3.019231</td>\n",
       "      <td>14.620000</td>\n",
       "    </tr>\n",
       "    <tr>\n",
       "      <th>3</th>\n",
       "      <td>1931</td>\n",
       "      <td>6.883469</td>\n",
       "      <td>9.182308</td>\n",
       "    </tr>\n",
       "    <tr>\n",
       "      <th>4</th>\n",
       "      <td>1932</td>\n",
       "      <td>0.249024</td>\n",
       "      <td>4.116923</td>\n",
       "    </tr>\n",
       "  </tbody>\n",
       "</table>\n",
       "</div>"
      ],
      "text/plain": [
       "   year        AL         CA\n",
       "0  1928  6.442115   1.331154\n",
       "1  1929  2.284286   1.400000\n",
       "2  1930  3.019231  14.620000\n",
       "3  1931  6.883469   9.182308\n",
       "4  1932  0.249024   4.116923"
      ]
     },
     "execution_count": 27,
     "metadata": {},
     "output_type": "execute_result"
    }
   ],
   "source": [
    "STATEdf = state_df.reset_index()\n",
    "STATEdf.head()"
   ]
  },
  {
   "cell_type": "code",
   "execution_count": 32,
   "metadata": {},
   "outputs": [
    {
     "data": {
      "text/plain": [
       "<matplotlib.axes._subplots.AxesSubplot at 0x2166829ce10>"
      ]
     },
     "execution_count": 32,
     "metadata": {},
     "output_type": "execute_result"
    },
    {
     "data": {
      "image/png": "[encoded data removed]",
      "text/plain": [
       "<Figure size 432x288 with 1 Axes>"
      ]
     },
     "metadata": {
      "needs_background": "light"
     },
     "output_type": "display_data"
    }
   ],
   "source": [
    "# Box Plot\n",
    "\n",
    "STATEdf.boxplot(column=[\"AL\", \"CA\"]) "
   ]
  }
 ],
 "metadata": {
  "kernelspec": {
   "display_name": "Python [conda env:PythonData] *",
   "language": "python",
   "name": "conda-env-PythonData-py"
  },
  "language_info": {
   "codemirror_mode": {
    "name": "ipython",
    "version": 3
   },
   "file_extension": ".py",
   "mimetype": "text/x-python",
   "name": "python",
   "nbconvert_exporter": "python",
   "pygments_lexer": "ipython3",
   "version": "3.6.8"
  }
 },
 "nbformat": 4,
 "nbformat_minor": 2
}
